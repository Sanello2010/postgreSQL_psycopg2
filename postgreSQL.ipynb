{
 "cells": [
  {
   "cell_type": "code",
   "execution_count": 11,
   "metadata": {},
   "outputs": [
    {
     "name": "stdout",
     "output_type": "stream",
     "text": [
      "id  3  |  name Alex  |  lastname Liakh  |  email alex@gmail.com  |  age 32\n",
      "id  1  |  name Oleg  |  lastname Bardian  |  email oleg@gmail.com  |  age 30\n",
      "id  2  |  name Valik  |  lastname Holynko  |  email valik@gmail.com  |  age 30\n"
     ]
    }
   ],
   "source": [
    "import psycopg2\n",
    "\n",
    "con = psycopg2.connect(\n",
    "    host='localhost',\n",
    "    database='db_test',\n",
    "    user='postgres',\n",
    "    password='salosa',\n",
    "    port=5432\n",
    ")\n",
    "\n",
    "cur = con.cursor()\n",
    "\n",
    "# cur.execute(\"INSERT INTO customers (id, firstname, lastname, email, age) VALUES (3, 'Alex', 'Liakh', 'alex@gmail.com', 32)\")\n",
    "\n",
    "cur.execute('SELECT * FROM customers ORDER BY firstname')\n",
    "rows = cur.fetchall()\n",
    "\n",
    "for row in rows:\n",
    "    print(f\"id  {row[0]}  |  name {row[1]}  |  lastname {row[2]}  |  email {row[3]}  |  age {row[4]}\")\n",
    "    \n",
    "# con.commit()\n",
    "    \n",
    "cur.close()\n",
    "\n",
    "con.close()"
   ]
  },
  {
   "cell_type": "code",
   "execution_count": 12,
   "metadata": {},
   "outputs": [
    {
     "name": "stdout",
     "output_type": "stream",
     "text": [
      "id  3  |  name Alex  |  lastname Liakh  |  email alex@gmail.com  |  age 32\n",
      "id  2  |  name Valik  |  lastname Holynko  |  email valik@gmail.com  |  age 30\n"
     ]
    }
   ],
   "source": [
    "con = psycopg2.connect(\n",
    "    host='localhost',\n",
    "    database='db_test',\n",
    "    user='postgres',\n",
    "    password='salosa',\n",
    "    port=5432\n",
    ")\n",
    "\n",
    "cur = con.cursor()\n",
    "\n",
    "cur.execute(\"DELETE FROM customers WHERE id=1\")\n",
    "\n",
    "cur.execute('SELECT * FROM customers ORDER BY firstname')\n",
    "rows = cur.fetchall()\n",
    "\n",
    "for row in rows:\n",
    "    print(f\"id  {row[0]}  |  name {row[1]}  |  lastname {row[2]}  |  email {row[3]}  |  age {row[4]}\")\n",
    "    \n",
    "con.commit()\n",
    "    \n",
    "cur.close()\n",
    "\n",
    "con.close()"
   ]
  },
  {
   "cell_type": "code",
   "execution_count": 14,
   "metadata": {},
   "outputs": [
    {
     "name": "stdout",
     "output_type": "stream",
     "text": [
      "id  3  |  name Alex  |  lastname Liakh  |  email alex@gmail.com  |  age 32\n",
      "id  1  |  name Igor  |  lastname Okunev  |  email igor@gmail.com  |  age 32\n",
      "id  2  |  name Valik  |  lastname Holynko  |  email valik@gmail.com  |  age 29\n"
     ]
    }
   ],
   "source": [
    "con = psycopg2.connect(\n",
    "    host='localhost',\n",
    "    database='db_test',\n",
    "    user='postgres',\n",
    "    password='salosa',\n",
    "    port=5432\n",
    ")\n",
    "\n",
    "cur = con.cursor()\n",
    "\n",
    "cur.execute(\"UPDATE customers SET age = 29 WHERE id=2\")\n",
    "# cur.execute(\"INSERT INTO customers (id, firstname, lastname, email, age) VALUES (1, 'Igor', 'Okunev', 'igor@gmail.com', 32)\")\n",
    "\n",
    "cur.execute('SELECT * FROM customers ORDER BY firstname')\n",
    "rows = cur.fetchall()\n",
    "\n",
    "for row in rows:\n",
    "    print(f\"id  {row[0]}  |  name {row[1]}  |  lastname {row[2]}  |  email {row[3]}  |  age {row[4]}\")\n",
    "    \n",
    "con.commit()\n",
    "    \n",
    "cur.close()\n",
    "\n",
    "con.close()"
   ]
  },
  {
   "cell_type": "code",
   "execution_count": 1,
   "metadata": {},
   "outputs": [],
   "source": [
    "import psycopg2"
   ]
  },
  {
   "cell_type": "code",
   "execution_count": 11,
   "metadata": {},
   "outputs": [
    {
     "ename": "DuplicateTable",
     "evalue": "ОШИБКА:  отношение \"customers\" уже существует\n",
     "output_type": "error",
     "traceback": [
      "\u001b[1;31m---------------------------------------------------------------------------\u001b[0m",
      "\u001b[1;31mDuplicateTable\u001b[0m                            Traceback (most recent call last)",
      "\u001b[1;32m<ipython-input-11-5ad5cba84fe6>\u001b[0m in \u001b[0;36m<module>\u001b[1;34m\u001b[0m\n\u001b[0;32m     21\u001b[0m         \u001b[0mAmount\u001b[0m \u001b[0mINT\u001b[0m \u001b[0mNOT\u001b[0m \u001b[0mNULL\u001b[0m\u001b[1;33m,\u001b[0m\u001b[1;33m\u001b[0m\u001b[1;33m\u001b[0m\u001b[0m\n\u001b[0;32m     22\u001b[0m         \u001b[0mPRIMARY\u001b[0m \u001b[0mKEY\u001b[0m \u001b[1;33m(\u001b[0m\u001b[0mID\u001b[0m\u001b[1;33m)\u001b[0m\u001b[1;33m\u001b[0m\u001b[1;33m\u001b[0m\u001b[0m\n\u001b[1;32m---> 23\u001b[1;33m         );\"\"\"\n\u001b[0m\u001b[0;32m     24\u001b[0m )\n\u001b[0;32m     25\u001b[0m \u001b[1;33m\u001b[0m\u001b[0m\n",
      "\u001b[1;31mDuplicateTable\u001b[0m: ОШИБКА:  отношение \"customers\" уже существует\n"
     ]
    }
   ],
   "source": [
    "con = psycopg2.connect(\n",
    "    host='localhost',\n",
    "    database='db_test2',\n",
    "    user='postgres',\n",
    "    password='salosa',\n",
    "    port=5432\n",
    ")\n",
    "\n",
    "cur = con.cursor()\n",
    "cur.execute(\"\"\"CREATE TABLE Customers (\n",
    "    ID INT NOT NULL,\n",
    "    Name CHAR (30) NOT NULL,\n",
    "    City CHAR (30) NOT NULL,\n",
    "    Age INT,\n",
    "    PRIMARY KEY (ID)\n",
    "    );\n",
    "    CREATE TABLE Orders (\n",
    "        ID INT NOT NULL,\n",
    "        Name CHAR (30) NOT NULL,\n",
    "        Customer_ID INT NOT NULL,\n",
    "        Amount INT NOT NULL,\n",
    "        PRIMARY KEY (ID)\n",
    "        );\"\"\"\n",
    ")\n",
    "\n",
    "con.commit()\n",
    "cur.close()\n",
    "con.close()"
   ]
  },
  {
   "cell_type": "code",
   "execution_count": 28,
   "metadata": {},
   "outputs": [
    {
     "name": "stdout",
     "output_type": "stream",
     "text": [
      "ID = 7\n",
      "Name = Bob\n",
      "City = Las Vegas\n",
      "Age = 27\n",
      "ID 7, Name Bob, City Las Vegas, Age 27\n",
      "id  1  |  name John                            |  city NewYork                         |  age 35\n",
      "id  2  |  name Chloe                           |  city Anderson                        |  age 27\n",
      "id  3  |  name Daniel                          |  city Harris                          |  age 30\n",
      "id  4  |  name Emily                           |  city Huston                          |  age 34\n",
      "id  5  |  name James                           |  city Philadelphia                    |  age 31\n",
      "id  7  |  name Bob                             |  city Las Vegas                       |  age 27\n"
     ]
    }
   ],
   "source": [
    "con = psycopg2.connect(\n",
    "    host='localhost',\n",
    "    database='db_test2',\n",
    "    user='postgres',\n",
    "    password='salosa',\n",
    "    port=5432\n",
    ")\n",
    "\n",
    "id = input('ID = ')\n",
    "name = input('Name = ')\n",
    "city = input('City = ')\n",
    "age = input('Age = ')\n",
    "print(f'ID {id}, Name {name}, City {city}, Age {age}')\n",
    "cur = con.cursor()\n",
    "cur.execute(f\"\"\"INSERT INTO Customers (ID, Name, City, Age)\n",
    "        VALUES ({id}, '{name}', '{city}', {age});\"\"\")\n",
    "cur.execute(\"\"\"SELECT * FROM Customers;\"\"\")\n",
    "\n",
    "rows = cur.fetchall()\n",
    "for row_table in rows:\n",
    "    print(f\"id  {row_table[0]}  |  name {row_table[1]}  |  city {row_table[2]}  |  age {row_table[3]}\")\n",
    "\n",
    "con.commit()\n",
    "cur.close()\n",
    "con.close()"
   ]
  },
  {
   "cell_type": "code",
   "execution_count": 31,
   "metadata": {},
   "outputs": [
    {
     "name": "stdout",
     "output_type": "stream",
     "text": [
      "id  4  |  name Emily                           |  city Huston                          |  age 34\n",
      "id  5  |  name James                           |  city Philadelphia                    |  age 31\n",
      "id  7  |  name Bob                             |  city Las Vegas                       |  age 27\n",
      "id  2  |  name David                           |  city Los Angeles                     |  age 23\n",
      "id  1  |  name John                            |  city New York                        |  age 35\n",
      "id  3  |  name Chloe                           |  city Chicago                         |  age 27\n"
     ]
    }
   ],
   "source": [
    "con = psycopg2.connect(\n",
    "    host='localhost',\n",
    "    database='db_test2',\n",
    "    user='postgres',\n",
    "    password='salosa',\n",
    "    port=5432\n",
    ")\n",
    "cur = con.cursor()\n",
    "\n",
    "cur.execute(\"\"\"UPDATE Customers SET Name = 'David', City = 'Los Angeles', Age = 23 WHERE ID = 2;\n",
    "                UPDATE Customers SET City = 'New York' WHERE ID = 1;\n",
    "                UPDATE Customers SET Name = 'Chloe', City = 'Chicago', Age = 27 WHERE ID = 3;\n",
    "                SELECT * FROM Customers\"\"\")\n",
    "rows = cur.fetchall()\n",
    "\n",
    "for row_table in rows:\n",
    "    print(f\"id  {row_table[0]}  |  name {row_table[1]}  |  city {row_table[2]}  |  age {row_table[3]}\")\n",
    "\n",
    "con.commit()\n",
    "cur.close()\n",
    "con.close()"
   ]
  },
  {
   "cell_type": "code",
   "execution_count": 37,
   "metadata": {},
   "outputs": [
    {
     "name": "stdout",
     "output_type": "stream",
     "text": [
      "ID = 5\n",
      "Name = Cake\n",
      "Customer_ID = 1\n",
      "Amount = 6700\n",
      "ID 5, Name Cake, Customer_ID 1, Amount 6700\n",
      "id  1  |  name Book                            |  customer_id 3  |  amount 5000\n",
      "id  2  |  name Box                             |  customer_id 5  |  amount 3000\n",
      "id  3  |  name Toy                             |  customer_id 3  |  amount 4500\n",
      "id  4  |  name Flowers                         |  customer_id 4  |  amount 1800\n",
      "id  5  |  name Cake                            |  customer_id 1  |  amount 6700\n"
     ]
    }
   ],
   "source": [
    "con = psycopg2.connect(\n",
    "    host='localhost',\n",
    "    database='db_test2',\n",
    "    user='postgres',\n",
    "    password='salosa',\n",
    "    port=5432\n",
    ")\n",
    "\n",
    "id = input('ID = ')\n",
    "name = input('Name = ')\n",
    "customer_id = input('Customer_ID = ')\n",
    "amount = input('Amount = ')\n",
    "print(f'ID {id}, Name {name}, Customer_ID {customer_id}, Amount {amount}')\n",
    "cur = con.cursor()\n",
    "cur.execute(f\"\"\"INSERT INTO Orders (ID, Name, Customer_ID, Amount)\n",
    "        VALUES ({id}, '{name}', {customer_id}, {amount});\"\"\")\n",
    "cur.execute(\"\"\"SELECT * FROM Orders;\"\"\")\n",
    "\n",
    "rows = cur.fetchall()\n",
    "for row_table in rows:\n",
    "    print(f\"id  {row_table[0]}  |  name {row_table[1]}  |  customer_id {row_table[2]}  |  amount {row_table[3]}\")\n",
    "\n",
    "con.commit()\n",
    "cur.close()\n",
    "con.close()"
   ]
  },
  {
   "cell_type": "code",
   "execution_count": 38,
   "metadata": {},
   "outputs": [
    {
     "name": "stdout",
     "output_type": "stream",
     "text": [
      "id  1  |  name Book                            |  customer_id 3  |  amount 5000\n",
      "id  2  |  name Box                             |  customer_id 5  |  amount 3000\n",
      "id  4  |  name Flowers                         |  customer_id 4  |  amount 1800\n",
      "id  5  |  name Cake                            |  customer_id 1  |  amount 6700\n",
      "id  3  |  name Toy                             |  customer_id 2  |  amount 4500\n"
     ]
    }
   ],
   "source": [
    "con = psycopg2.connect(\n",
    "    host='localhost',\n",
    "    database='db_test2',\n",
    "    user='postgres',\n",
    "    password='salosa',\n",
    "    port=5432\n",
    ")\n",
    "cur = con.cursor()\n",
    "\n",
    "cur.execute(\"\"\"UPDATE Orders SET customer_id = 2 WHERE ID = 3;\n",
    "                SELECT * FROM Orders;\"\"\")\n",
    "\n",
    "rows = cur.fetchall()\n",
    "for row_table in rows:\n",
    "    print(f\"id  {row_table[0]}  |  name {row_table[1]}  |  customer_id {row_table[2]}  |  amount {row_table[3]}\")\n",
    "\n",
    "con.commit()\n",
    "cur.close()\n",
    "con.close()"
   ]
  },
  {
   "cell_type": "code",
   "execution_count": 42,
   "metadata": {},
   "outputs": [
    {
     "name": "stdout",
     "output_type": "stream",
     "text": [
      "id  1  |  name1 John                            |  name2 Cake                            |  amount 6700\n",
      "id  2  |  name1 David                           |  name2 Toy                             |  amount 4500\n",
      "id  3  |  name1 Chloe                           |  name2 Book                            |  amount 5000\n",
      "id  4  |  name1 Emily                           |  name2 Flowers                         |  amount 1800\n",
      "id  5  |  name1 James                           |  name2 Box                             |  amount 3000\n"
     ]
    }
   ],
   "source": [
    "con = psycopg2.connect(\n",
    "    host='localhost',\n",
    "    database='db_test2',\n",
    "    user='postgres',\n",
    "    password='salosa',\n",
    "    port=5432\n",
    ")\n",
    "cur = con.cursor()\n",
    "\n",
    "cur.execute(\"\"\"\n",
    "SELECT customers.ID, customers.Name, orders.Name, orders.Amount \n",
    "FROM Customers, Orders WHERE customers.ID=orders.Customer_ID\n",
    "ORDER BY customers.ID;\"\"\")\n",
    "\n",
    "rows = cur.fetchall()\n",
    "for row_table in rows:\n",
    "    print(f\"id  {row_table[0]}  |  name1 {row_table[1]}  |  name2 {row_table[2]}  |  amount {row_table[3]}\")\n",
    "\n",
    "con.commit()\n",
    "cur.close()\n",
    "con.close()"
   ]
  },
  {
   "cell_type": "code",
   "execution_count": null,
   "metadata": {},
   "outputs": [],
   "source": []
  }
 ],
 "metadata": {
  "kernelspec": {
   "display_name": "Python 3",
   "language": "python",
   "name": "python3"
  },
  "language_info": {
   "codemirror_mode": {
    "name": "ipython",
    "version": 3
   },
   "file_extension": ".py",
   "mimetype": "text/x-python",
   "name": "python",
   "nbconvert_exporter": "python",
   "pygments_lexer": "ipython3",
   "version": "3.7.4"
  }
 },
 "nbformat": 4,
 "nbformat_minor": 2
}
